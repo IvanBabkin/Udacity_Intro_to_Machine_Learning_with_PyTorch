{
 "cells": [
  {
   "cell_type": "markdown",
   "metadata": {},
   "source": [
    "# Finding Donors for CharityML\n",
    "Udacity Intro to Machine Learning with PyTorch Nanodegree Project 1"
   ]
  },
  {
   "cell_type": "markdown",
   "metadata": {},
   "source": [
    "## Table of Contents\n",
    "- [1. Introduction](#1.)\n",
    "    - [1.1 Project Motivation](#1.1)\n",
    "    - [1.2 The Dataset](#1.2)\n",
    "    - [1.3 Specifying Python and Main Libraries Versions](#1.3)\n",
    "- [2. Exploring the Data](#2.)\n",
    "- [3. Preparing the Data](#3.)\n",
    "    - [3.1 Transforming Skewed Continuous Features](#3.1)\n",
    "    - [3.2 Normalizing Numerical Features](#3.2)\n",
    "    - [3.3 Data Preprocessing](#3.3)\n",
    "    - [3.4 Shuffling and Splitting Data](#3.4)\n",
    "- [4. Evaluating Model Performance](#4.)\n",
    "    - [4.1 Model Evaluation Metrics](#4.1)\n",
    "    - [4.2 Naive Predictor Performace](#4.2)\n",
    "    - [4.3 Supervised Learning Models Performance](#4.3)\n",
    "- [5. Improving Results](#5.)\n",
    "    - [5.1 Choosing the Best Model](#5.1)\n",
    "    - [5.2 Describing AdaBoostClassifier in Layman's Terms](#5.2)\n",
    "    - [5.3 Model Tuning](#5.3)\n",
    "    - [5.4 Final Model Evaluation](#5.4)\n",
    "- [6. Feature Importance](#6.)\n",
    "    - [6.1 Feature Relevance Observation](#6.1)\n",
    "    - [6.2 Extracting Most Predictive Features](#6.2)\n",
    "    - [6.3 Feature Selection](#6.3)\n",
    "\n",
    "\n",
    "---\n",
    "<a id='1.'></a>\n",
    "## 1. Introduction \n",
    "\n",
    "<a id='1.1'></a>\n",
    "### 1.1 Project Motivation\n",
    "CharityML is a fictitious charity organization located in the heart of Silicon Valley that was established to provide financial support for people eager to learn machine learning. To expand their potential donor base, CharityML has decided to send letters to residents of California, but to only those most likely to donate to the charity. After nearly 32,000 letters were sent to people in the community, CharityML determined that every donation they received came from someone that was making more than $50,000 annually. With nearly 15 million working Californians, CharityML wants to build an algorithm to best identify potential donors and reduce the overhead cost of sending mail. The goal of this project is to evaluate and optimize several different supervised learning algorithms to determine which algorithm will provide the highest donation yield while also reducing the total number of letters being sent due to marketing budget constraints.\n",
    "\n",
    "\n",
    "In this project, several supervised learning algorithms (Random Forest, AdaBoost and Support Vector Machines (SVM)) are employed to accurately model individuals' income using the data collected from the 1994 U.S. Census. Then, the best candidate algorithm is chosen from preliminary results and further optimized to best model the data. The goal of this implementation is to construct a model that accurately predicts whether an individual makes more than \\$50,000. In the real world, this sort of task can arise in a non-profit setting, where organizations survive on donations.  Understanding an individual's income can help a non-profit better understand how large of a donation to request or whether or not they should reach out, to begin with.  While it can be difficult to determine an individual's general income bracket directly from public sources, it is possible to infer this value from other publically available features. \n",
    "\n",
    "<a id='1.2'></a>\n",
    "### 1.2 The Dataset\n",
    "The dataset for this project originates from the [UCI Machine Learning Repository](https://archive.ics.uci.edu/ml/datasets/Census+Income). This dataset was donated by Ron Kohavi and Barry Becker, after being published in the article _\"Scaling Up the Accuracy of Naive-Bayes Classifiers: A Decision-Tree Hybrid\"_. The article by Ron Kohavi can be found [online](https://www.aaai.org/Papers/KDD/1996/KDD96-033.pdf). The data investigated here consists of small changes to the original dataset, such as removing the `'fnlwgt'` feature and records with missing or ill-formatted entries.\n",
    "\n",
    "<a id='1.3'></a>\n",
    "### 1.3 Specifying Python and Main Libraries Versions"
   ]
  },
  {
   "cell_type": "code",
   "execution_count": 1,
   "metadata": {},
   "outputs": [
    {
     "name": "stdout",
     "output_type": "stream",
     "text": [
      "Python version: 3.8.8\n",
      "NumPy version: 1.20.2\n",
      "pandas version: 1.2.4\n",
      "matplotlib version: 3.3.4\n",
      "scikit-learn version: 0.24.2\n"
     ]
    }
   ],
   "source": [
    "# Specify Python version used for this project\n",
    "from platform import python_version\n",
    "print(\"Python version: {}\". format(python_version()))\n",
    "\n",
    "# Load main libraries needed for the project \n",
    "import numpy as np\n",
    "import pandas as pd\n",
    "import matplotlib\n",
    "import sklearn\n",
    "\n",
    "# Specify the version of each library used in this project\n",
    "print(\"NumPy version: {}\". format(np.__version__))\n",
    "print(\"pandas version: {}\". format(pd.__version__))\n",
    "print(\"matplotlib version: {}\". format(matplotlib.__version__))\n",
    "print(\"scikit-learn version: {}\". format(sklearn.__version__))"
   ]
  },
  {
   "cell_type": "code",
   "execution_count": 2,
   "metadata": {},
   "outputs": [],
   "source": [
    "# Additional imports required for this project\n",
    "from time import time\n",
    "from IPython.display import display\n",
    "import visuals as vs # visuals.py file\n",
    "%matplotlib inline\n",
    "\n",
    "# Ignore warnings\n",
    "import warnings\n",
    "warnings.filterwarnings('ignore')"
   ]
  },
  {
   "cell_type": "markdown",
   "metadata": {},
   "source": [
    "----\n",
    "<a id='2.'></a>\n",
    "## 2. Exploring the Data"
   ]
  },
  {
   "cell_type": "code",
   "execution_count": 3,
   "metadata": {},
   "outputs": [
    {
     "data": {
      "text/html": [
       "<div>\n",
       "<style scoped>\n",
       "    .dataframe tbody tr th:only-of-type {\n",
       "        vertical-align: middle;\n",
       "    }\n",
       "\n",
       "    .dataframe tbody tr th {\n",
       "        vertical-align: top;\n",
       "    }\n",
       "\n",
       "    .dataframe thead th {\n",
       "        text-align: right;\n",
       "    }\n",
       "</style>\n",
       "<table border=\"1\" class=\"dataframe\">\n",
       "  <thead>\n",
       "    <tr style=\"text-align: right;\">\n",
       "      <th></th>\n",
       "      <th>age</th>\n",
       "      <th>workclass</th>\n",
       "      <th>education_level</th>\n",
       "      <th>education-num</th>\n",
       "      <th>marital-status</th>\n",
       "      <th>occupation</th>\n",
       "      <th>relationship</th>\n",
       "      <th>race</th>\n",
       "      <th>sex</th>\n",
       "      <th>capital-gain</th>\n",
       "      <th>capital-loss</th>\n",
       "      <th>hours-per-week</th>\n",
       "      <th>native-country</th>\n",
       "      <th>income</th>\n",
       "    </tr>\n",
       "  </thead>\n",
       "  <tbody>\n",
       "    <tr>\n",
       "      <th>0</th>\n",
       "      <td>39</td>\n",
       "      <td>State-gov</td>\n",
       "      <td>Bachelors</td>\n",
       "      <td>13.0</td>\n",
       "      <td>Never-married</td>\n",
       "      <td>Adm-clerical</td>\n",
       "      <td>Not-in-family</td>\n",
       "      <td>White</td>\n",
       "      <td>Male</td>\n",
       "      <td>2174.0</td>\n",
       "      <td>0.0</td>\n",
       "      <td>40.0</td>\n",
       "      <td>United-States</td>\n",
       "      <td>&lt;=50K</td>\n",
       "    </tr>\n",
       "    <tr>\n",
       "      <th>1</th>\n",
       "      <td>50</td>\n",
       "      <td>Self-emp-not-inc</td>\n",
       "      <td>Bachelors</td>\n",
       "      <td>13.0</td>\n",
       "      <td>Married-civ-spouse</td>\n",
       "      <td>Exec-managerial</td>\n",
       "      <td>Husband</td>\n",
       "      <td>White</td>\n",
       "      <td>Male</td>\n",
       "      <td>0.0</td>\n",
       "      <td>0.0</td>\n",
       "      <td>13.0</td>\n",
       "      <td>United-States</td>\n",
       "      <td>&lt;=50K</td>\n",
       "    </tr>\n",
       "    <tr>\n",
       "      <th>2</th>\n",
       "      <td>38</td>\n",
       "      <td>Private</td>\n",
       "      <td>HS-grad</td>\n",
       "      <td>9.0</td>\n",
       "      <td>Divorced</td>\n",
       "      <td>Handlers-cleaners</td>\n",
       "      <td>Not-in-family</td>\n",
       "      <td>White</td>\n",
       "      <td>Male</td>\n",
       "      <td>0.0</td>\n",
       "      <td>0.0</td>\n",
       "      <td>40.0</td>\n",
       "      <td>United-States</td>\n",
       "      <td>&lt;=50K</td>\n",
       "    </tr>\n",
       "    <tr>\n",
       "      <th>3</th>\n",
       "      <td>53</td>\n",
       "      <td>Private</td>\n",
       "      <td>11th</td>\n",
       "      <td>7.0</td>\n",
       "      <td>Married-civ-spouse</td>\n",
       "      <td>Handlers-cleaners</td>\n",
       "      <td>Husband</td>\n",
       "      <td>Black</td>\n",
       "      <td>Male</td>\n",
       "      <td>0.0</td>\n",
       "      <td>0.0</td>\n",
       "      <td>40.0</td>\n",
       "      <td>United-States</td>\n",
       "      <td>&lt;=50K</td>\n",
       "    </tr>\n",
       "    <tr>\n",
       "      <th>4</th>\n",
       "      <td>28</td>\n",
       "      <td>Private</td>\n",
       "      <td>Bachelors</td>\n",
       "      <td>13.0</td>\n",
       "      <td>Married-civ-spouse</td>\n",
       "      <td>Prof-specialty</td>\n",
       "      <td>Wife</td>\n",
       "      <td>Black</td>\n",
       "      <td>Female</td>\n",
       "      <td>0.0</td>\n",
       "      <td>0.0</td>\n",
       "      <td>40.0</td>\n",
       "      <td>Cuba</td>\n",
       "      <td>&lt;=50K</td>\n",
       "    </tr>\n",
       "  </tbody>\n",
       "</table>\n",
       "</div>"
      ],
      "text/plain": [
       "   age          workclass education_level  education-num       marital-status  \\\n",
       "0   39          State-gov       Bachelors           13.0        Never-married   \n",
       "1   50   Self-emp-not-inc       Bachelors           13.0   Married-civ-spouse   \n",
       "2   38            Private         HS-grad            9.0             Divorced   \n",
       "3   53            Private            11th            7.0   Married-civ-spouse   \n",
       "4   28            Private       Bachelors           13.0   Married-civ-spouse   \n",
       "\n",
       "           occupation    relationship    race      sex  capital-gain  \\\n",
       "0        Adm-clerical   Not-in-family   White     Male        2174.0   \n",
       "1     Exec-managerial         Husband   White     Male           0.0   \n",
       "2   Handlers-cleaners   Not-in-family   White     Male           0.0   \n",
       "3   Handlers-cleaners         Husband   Black     Male           0.0   \n",
       "4      Prof-specialty            Wife   Black   Female           0.0   \n",
       "\n",
       "   capital-loss  hours-per-week  native-country income  \n",
       "0           0.0            40.0   United-States  <=50K  \n",
       "1           0.0            13.0   United-States  <=50K  \n",
       "2           0.0            40.0   United-States  <=50K  \n",
       "3           0.0            40.0   United-States  <=50K  \n",
       "4           0.0            40.0            Cuba  <=50K  "
      ]
     },
     "metadata": {},
     "output_type": "display_data"
    }
   ],
   "source": [
    "# Load the Census dataset\n",
    "data = pd.read_csv(\"census.csv\")\n",
    "\n",
    "# Display the first five records\n",
    "display(data.head(n=5))"
   ]
  },
  {
   "cell_type": "code",
   "execution_count": 4,
   "metadata": {},
   "outputs": [
    {
     "data": {
      "text/plain": [
       "(45222, 14)"
      ]
     },
     "execution_count": 4,
     "metadata": {},
     "output_type": "execute_result"
    }
   ],
   "source": [
    "data.shape"
   ]
  },
  {
   "cell_type": "markdown",
   "metadata": {},
   "source": [
    "The last column from this dataset, `'income'`, will be the target label (whether an individual makes more than, or at most, $50,000 annually). All other columns are features about each individual in the census database.\n",
    "\n",
    "A cursory investigation of the dataset will determine how many individuals fit into either group, and will allow to determine the percentage of these individuals making more than \\$50,000. The following variables are calculated:\n",
    "- The total number of records, `'n_records'`\n",
    "- The number of individuals making more than \\$50,000 annually, `'n_greater_50k'`.\n",
    "- The number of individuals making at most \\$50,000 annually, `'n_at_most_50k'`.\n",
    "- The percentage of individuals making more than \\$50,000 annually, `'greater_percent'`."
   ]
  },
  {
   "cell_type": "code",
   "execution_count": 5,
   "metadata": {},
   "outputs": [
    {
     "name": "stdout",
     "output_type": "stream",
     "text": [
      "Total number of records: 45222\n",
      "Individuals making more than $50,000: 11208\n",
      "Individuals making at most $50,000: 34014\n",
      "Percentage of individuals making more than $50,000: 24.78%\n"
     ]
    }
   ],
   "source": [
    "# Total number of records\n",
    "n_records = data.shape[0]\n",
    "\n",
    "# Number of records where individual's income is more than $50,000\n",
    "n_greater_50k = len(np.argwhere(data.income.values == \">50K\"))\n",
    "\n",
    "# Number of records where individual's income is at most $50,000\n",
    "n_at_most_50k = len(np.argwhere(data.income.values == \"<=50K\"))\n",
    "\n",
    "# Percentage of individuals whose income is more than $50,000\n",
    "greater_percent = round((n_greater_50k/n_records)*100, 2)\n",
    "\n",
    "# Print the results\n",
    "print(\"Total number of records: {}\".format(n_records))\n",
    "print(\"Individuals making more than $50,000: {}\".format(n_greater_50k))\n",
    "print(\"Individuals making at most $50,000: {}\".format(n_at_most_50k))\n",
    "print(\"Percentage of individuals making more than $50,000: {}%\".format(greater_percent))"
   ]
  },
  {
   "cell_type": "markdown",
   "metadata": {},
   "source": [
    "** **Featureset Exploration** **\n",
    "\n",
    "* **age**: Age (continuous) \n",
    "* **workclass**:  Working Class (Private, Self-emp-not-inc, Self-emp-inc, Federal-gov, Local-gov, State-gov, Without-pay, Never-worked) \n",
    "* **education**:  Level of Education (Bachelors, Some-college, 11th, HS-grad, Prof-school, Assoc-acdm, Assoc-voc, 9th, 7th-8th, 12th, Masters, 1st-4th, 10th, Doctorate, 5th-6th, Preschool) \n",
    "* **education-num**: Number of educational years completed (continuous) \n",
    "* **marital-status**: Marital status (Married-civ-spouse, Divorced, Never-married, Separated, Widowed, Married-spouse-absent, Married-AF-spouse) \n",
    "* **occupation**: Work Occupation (Tech-support, Craft-repair, Other-service, Sales, Exec-managerial, Prof-specialty, Handlers-cleaners, Machine-op-inspct, Adm-clerical, Farming-fishing, Transport-moving, Priv-house-serv, Protective-serv, Armed-Forces) \n",
    "* **relationship**: Relationship Status (Wife, Own-child, Husband, Not-in-family, Other-relative, Unmarried) \n",
    "* **race**: Race (Black, White, Asian-Pac-Islander, Amer-Indian-Eskimo, Other) \n",
    "* **sex**: Sex (Female, Male) \n",
    "* **capital-gain**: Monetary Capital Gains (continuous) \n",
    "* **capital-loss**: Monetary Capital Losses (continuous) \n",
    "* **hours-per-week**: Average Hours Per Week Worked (continuous) \n",
    "* **native-country**: Native Country (United-States, Cambodia, England, Puerto-Rico, Canada, Germany, Outlying-US(Guam-USVI-etc), India, Japan, Greece, South, China, Cuba, Iran, Honduras, Philippines, Italy, Poland, Jamaica, Vietnam, Mexico, Portugal, Ireland, France, Dominican-Republic, Laos, Ecuador, Taiwan, Haiti, Columbia, Hungary, Guatemala, Nicaragua, Scotland, Thailand, Yugoslavia, El-Salvador, Trinadad&Tobago, Peru, Hong, Holand-Netherlands)\n",
    "\n",
    "** **Target Variable** **\n",
    "- **income**: Income Class (string: <=50K, >50K)"
   ]
  },
  {
   "cell_type": "markdown",
   "metadata": {},
   "source": [
    "----\n",
    "<a id='3.'></a>\n",
    "## 3. Preparing the Data\n",
    "Before data can be used as input for machine learning algorithms, it must be cleaned, formatted, and restructured — this is typically known as preprocessing. Fortunately, for this dataset, there are no invalid or missing entries to deal with; however, there are some qualities about certain features that must be adjusted. This preprocessing can help tremendously with the outcome and predictive power of nearly all learning algorithms."
   ]
  },
  {
   "cell_type": "markdown",
   "metadata": {},
   "source": [
    "<a id='3.1'></a>\n",
    "### 3.1 Transforming Skewed Continuous Features\n",
    "A dataset may sometimes contain at least one feature whose values tend to lie near a single number, but will also have a non-trivial number of vastly larger or smaller values than that single number.  Algorithms can be sensitive to such distributions of values and can underperform if the range is not properly normalized. With the census dataset, two features fit this description: `capital-gain` and `capital-loss` columns. "
   ]
  },
  {
   "cell_type": "code",
   "execution_count": 6,
   "metadata": {},
   "outputs": [
    {
     "data": {
      "image/png": "[encoded data removed]",
      "text/plain": [
       "<Figure size 792x360 with 2 Axes>"
      ]
     },
     "metadata": {
      "needs_background": "light"
     },
     "output_type": "display_data"
    }
   ],
   "source": [
    "# Split the data into features and target label\n",
    "income_raw = data['income']\n",
    "features_raw = data.drop('income', axis = 1)\n",
    "\n",
    "# Visualize skewed continuous features of original data\n",
    "vs.distribution(data)"
   ]
  },
  {
   "cell_type": "markdown",
   "metadata": {},
   "source": [
    "For highly-skewed feature distributions such as `capital-gain` and `capital-loss`, it is common practice to apply a <a href=\"https://en.wikipedia.org/wiki/Data_transformation_(statistics)\">logarithmic transformation</a> on the data so that the very large and very small values do not negatively affect the performance of a learning algorithm. Using a logarithmic transformation significantly reduces the range of values caused by outliers. However, care must be taken when applying this transformation: The logarithm of `0` is undefined, so the values must be translated by a small amount above `0` to apply the logarithm successfully."
   ]
  },
  {
   "cell_type": "code",
   "execution_count": 7,
   "metadata": {},
   "outputs": [
    {
     "data": {
      "image/png": "[encoded data removed]",
      "text/plain": [
       "<Figure size 792x360 with 2 Axes>"
      ]
     },
     "metadata": {
      "needs_background": "light"
     },
     "output_type": "display_data"
    }
   ],
   "source": [
    "# Log-transform the skewed features\n",
    "skewed = ['capital-gain', 'capital-loss']\n",
    "features_log_transformed = pd.DataFrame(data = features_raw)\n",
    "features_log_transformed[skewed] = features_raw[skewed].apply(lambda x: np.log(x + 1))\n",
    "\n",
    "# Visualize the new log distributions\n",
    "vs.distribution(features_log_transformed, transformed = True)"
   ]
  },
  {
   "cell_type": "markdown",
   "metadata": {},
   "source": [
    "<a id='3.2'></a>\n",
    "### 3.2 Normalizing Numerical Features\n",
    "In addition to performing transformations on features that are highly skewed, it is often good practice to perform some type of scaling on numerical features. Applying a scaling to the data does not change the shape of each feature's distribution (such as `capital-gain` or `capital-loss` above); however, normalization ensures that each feature is treated equally when applying supervised learners. The [`sklearn.preprocessing.MinMaxScaler`](http://scikit-learn.org/stable/modules/generated/sklearn.preprocessing.MinMaxScaler.html) will be used for this procedure.\n",
    "\n",
    "**Note:** once scaling is applied, observing the data in its raw form will no longer have the same original meaning, as exampled below."
   ]
  },
  {
   "cell_type": "code",
   "execution_count": 8,
   "metadata": {},
   "outputs": [
    {
     "data": {
      "text/html": [
       "<div>\n",
       "<style scoped>\n",
       "    .dataframe tbody tr th:only-of-type {\n",
       "        vertical-align: middle;\n",
       "    }\n",
       "\n",
       "    .dataframe tbody tr th {\n",
       "        vertical-align: top;\n",
       "    }\n",
       "\n",
       "    .dataframe thead th {\n",
       "        text-align: right;\n",
       "    }\n",
       "</style>\n",
       "<table border=\"1\" class=\"dataframe\">\n",
       "  <thead>\n",
       "    <tr style=\"text-align: right;\">\n",
       "      <th></th>\n",
       "      <th>age</th>\n",
       "      <th>workclass</th>\n",
       "      <th>education_level</th>\n",
       "      <th>education-num</th>\n",
       "      <th>marital-status</th>\n",
       "      <th>occupation</th>\n",
       "      <th>relationship</th>\n",
       "      <th>race</th>\n",
       "      <th>sex</th>\n",
       "      <th>capital-gain</th>\n",
       "      <th>capital-loss</th>\n",
       "      <th>hours-per-week</th>\n",
       "      <th>native-country</th>\n",
       "    </tr>\n",
       "  </thead>\n",
       "  <tbody>\n",
       "    <tr>\n",
       "      <th>0</th>\n",
       "      <td>0.301370</td>\n",
       "      <td>State-gov</td>\n",
       "      <td>Bachelors</td>\n",
       "      <td>0.800000</td>\n",
       "      <td>Never-married</td>\n",
       "      <td>Adm-clerical</td>\n",
       "      <td>Not-in-family</td>\n",
       "      <td>White</td>\n",
       "      <td>Male</td>\n",
       "      <td>0.667492</td>\n",
       "      <td>0.0</td>\n",
       "      <td>0.397959</td>\n",
       "      <td>United-States</td>\n",
       "    </tr>\n",
       "    <tr>\n",
       "      <th>1</th>\n",
       "      <td>0.452055</td>\n",
       "      <td>Self-emp-not-inc</td>\n",
       "      <td>Bachelors</td>\n",
       "      <td>0.800000</td>\n",
       "      <td>Married-civ-spouse</td>\n",
       "      <td>Exec-managerial</td>\n",
       "      <td>Husband</td>\n",
       "      <td>White</td>\n",
       "      <td>Male</td>\n",
       "      <td>0.000000</td>\n",
       "      <td>0.0</td>\n",
       "      <td>0.122449</td>\n",
       "      <td>United-States</td>\n",
       "    </tr>\n",
       "    <tr>\n",
       "      <th>2</th>\n",
       "      <td>0.287671</td>\n",
       "      <td>Private</td>\n",
       "      <td>HS-grad</td>\n",
       "      <td>0.533333</td>\n",
       "      <td>Divorced</td>\n",
       "      <td>Handlers-cleaners</td>\n",
       "      <td>Not-in-family</td>\n",
       "      <td>White</td>\n",
       "      <td>Male</td>\n",
       "      <td>0.000000</td>\n",
       "      <td>0.0</td>\n",
       "      <td>0.397959</td>\n",
       "      <td>United-States</td>\n",
       "    </tr>\n",
       "    <tr>\n",
       "      <th>3</th>\n",
       "      <td>0.493151</td>\n",
       "      <td>Private</td>\n",
       "      <td>11th</td>\n",
       "      <td>0.400000</td>\n",
       "      <td>Married-civ-spouse</td>\n",
       "      <td>Handlers-cleaners</td>\n",
       "      <td>Husband</td>\n",
       "      <td>Black</td>\n",
       "      <td>Male</td>\n",
       "      <td>0.000000</td>\n",
       "      <td>0.0</td>\n",
       "      <td>0.397959</td>\n",
       "      <td>United-States</td>\n",
       "    </tr>\n",
       "    <tr>\n",
       "      <th>4</th>\n",
       "      <td>0.150685</td>\n",
       "      <td>Private</td>\n",
       "      <td>Bachelors</td>\n",
       "      <td>0.800000</td>\n",
       "      <td>Married-civ-spouse</td>\n",
       "      <td>Prof-specialty</td>\n",
       "      <td>Wife</td>\n",
       "      <td>Black</td>\n",
       "      <td>Female</td>\n",
       "      <td>0.000000</td>\n",
       "      <td>0.0</td>\n",
       "      <td>0.397959</td>\n",
       "      <td>Cuba</td>\n",
       "    </tr>\n",
       "  </tbody>\n",
       "</table>\n",
       "</div>"
      ],
      "text/plain": [
       "        age          workclass education_level  education-num  \\\n",
       "0  0.301370          State-gov       Bachelors       0.800000   \n",
       "1  0.452055   Self-emp-not-inc       Bachelors       0.800000   \n",
       "2  0.287671            Private         HS-grad       0.533333   \n",
       "3  0.493151            Private            11th       0.400000   \n",
       "4  0.150685            Private       Bachelors       0.800000   \n",
       "\n",
       "        marital-status          occupation    relationship    race      sex  \\\n",
       "0        Never-married        Adm-clerical   Not-in-family   White     Male   \n",
       "1   Married-civ-spouse     Exec-managerial         Husband   White     Male   \n",
       "2             Divorced   Handlers-cleaners   Not-in-family   White     Male   \n",
       "3   Married-civ-spouse   Handlers-cleaners         Husband   Black     Male   \n",
       "4   Married-civ-spouse      Prof-specialty            Wife   Black   Female   \n",
       "\n",
       "   capital-gain  capital-loss  hours-per-week  native-country  \n",
       "0      0.667492           0.0        0.397959   United-States  \n",
       "1      0.000000           0.0        0.122449   United-States  \n",
       "2      0.000000           0.0        0.397959   United-States  \n",
       "3      0.000000           0.0        0.397959   United-States  \n",
       "4      0.000000           0.0        0.397959            Cuba  "
      ]
     },
     "metadata": {},
     "output_type": "display_data"
    }
   ],
   "source": [
    "from sklearn.preprocessing import MinMaxScaler\n",
    "\n",
    "# Initialize a scaler, then apply it to the features\n",
    "scaler = MinMaxScaler() # default=(0, 1)\n",
    "numerical = ['age', 'education-num', 'capital-gain', 'capital-loss', 'hours-per-week']\n",
    "\n",
    "features_log_minmax_transform = pd.DataFrame(data = features_log_transformed)\n",
    "features_log_minmax_transform[numerical] = scaler.fit_transform(features_log_transformed[numerical])\n",
    "\n",
    "# Show an example of the first five records with scaling applied\n",
    "display(features_log_minmax_transform.head(n = 5))"
   ]
  },
  {
   "cell_type": "markdown",
   "metadata": {},
   "source": [
    "<a id='3.3'></a>\n",
    "### 3.3 Data Preprocessing\n",
    "\n",
    "From the table in section 2 above, we can see there are several features for each record that are non-numeric. Typically, learning algorithms expect the input to be numeric, which requires non-numeric features to be converted. One popular way to convert categorical variables is by using the **one-hot encoding** scheme. One-hot encoding creates a _\"dummy\"_ variable for each possible category of each non-numeric feature. For example, assume `someFeature` has three possible entries: `A`, `B`, or `C`. This feature is then encoded into `someFeature_A`, `someFeature_B` and `someFeature_C`.\n",
    "\n",
    "|   | someFeature |                    | someFeature_A | someFeature_B | someFeature_C |\n",
    "| :-: | :-: |                            | :-: | :-: | :-: |\n",
    "| 0 |  B  |  | 0 | 1 | 0 |\n",
    "| 1 |  C  | ----> one-hot encode ----> | 0 | 0 | 1 |\n",
    "| 2 |  A  |  | 1 | 0 | 0 |\n",
    "\n",
    "Additionally, as with the non-numeric features, the non-numeric target label `income` should be converted to numerical values for the learning algorithm to work. Since there are only two possible categories for this label (\"<=50K\" and \">50K\"), it is possible to avoid using one-hot encoding and simply encode these two categories as `0` and `1`, respectively."
   ]
  },
  {
   "cell_type": "code",
   "execution_count": 9,
   "metadata": {
    "scrolled": true
   },
   "outputs": [
    {
     "name": "stdout",
     "output_type": "stream",
     "text": [
      "103 total features after one-hot encoding.\n",
      "['age', 'education-num', 'capital-gain', 'capital-loss', 'hours-per-week', 'workclass_ Federal-gov', 'workclass_ Local-gov', 'workclass_ Private', 'workclass_ Self-emp-inc', 'workclass_ Self-emp-not-inc', 'workclass_ State-gov', 'workclass_ Without-pay', 'education_level_ 10th', 'education_level_ 11th', 'education_level_ 12th', 'education_level_ 1st-4th', 'education_level_ 5th-6th', 'education_level_ 7th-8th', 'education_level_ 9th', 'education_level_ Assoc-acdm', 'education_level_ Assoc-voc', 'education_level_ Bachelors', 'education_level_ Doctorate', 'education_level_ HS-grad', 'education_level_ Masters', 'education_level_ Preschool', 'education_level_ Prof-school', 'education_level_ Some-college', 'marital-status_ Divorced', 'marital-status_ Married-AF-spouse', 'marital-status_ Married-civ-spouse', 'marital-status_ Married-spouse-absent', 'marital-status_ Never-married', 'marital-status_ Separated', 'marital-status_ Widowed', 'occupation_ Adm-clerical', 'occupation_ Armed-Forces', 'occupation_ Craft-repair', 'occupation_ Exec-managerial', 'occupation_ Farming-fishing', 'occupation_ Handlers-cleaners', 'occupation_ Machine-op-inspct', 'occupation_ Other-service', 'occupation_ Priv-house-serv', 'occupation_ Prof-specialty', 'occupation_ Protective-serv', 'occupation_ Sales', 'occupation_ Tech-support', 'occupation_ Transport-moving', 'relationship_ Husband', 'relationship_ Not-in-family', 'relationship_ Other-relative', 'relationship_ Own-child', 'relationship_ Unmarried', 'relationship_ Wife', 'race_ Amer-Indian-Eskimo', 'race_ Asian-Pac-Islander', 'race_ Black', 'race_ Other', 'race_ White', 'sex_ Female', 'sex_ Male', 'native-country_ Cambodia', 'native-country_ Canada', 'native-country_ China', 'native-country_ Columbia', 'native-country_ Cuba', 'native-country_ Dominican-Republic', 'native-country_ Ecuador', 'native-country_ El-Salvador', 'native-country_ England', 'native-country_ France', 'native-country_ Germany', 'native-country_ Greece', 'native-country_ Guatemala', 'native-country_ Haiti', 'native-country_ Holand-Netherlands', 'native-country_ Honduras', 'native-country_ Hong', 'native-country_ Hungary', 'native-country_ India', 'native-country_ Iran', 'native-country_ Ireland', 'native-country_ Italy', 'native-country_ Jamaica', 'native-country_ Japan', 'native-country_ Laos', 'native-country_ Mexico', 'native-country_ Nicaragua', 'native-country_ Outlying-US(Guam-USVI-etc)', 'native-country_ Peru', 'native-country_ Philippines', 'native-country_ Poland', 'native-country_ Portugal', 'native-country_ Puerto-Rico', 'native-country_ Scotland', 'native-country_ South', 'native-country_ Taiwan', 'native-country_ Thailand', 'native-country_ Trinadad&Tobago', 'native-country_ United-States', 'native-country_ Vietnam', 'native-country_ Yugoslavia']\n"
     ]
    }
   ],
   "source": [
    "# One-hot encoding the features\n",
    "features_final = pd.get_dummies(features_log_minmax_transform)\n",
    "\n",
    "# Encode the income data to numerical values\n",
    "income = income_raw.apply(lambda income: 0 if income == \"<=50K\" else 1)\n",
    "\n",
    "# Print the number of features after one-hot encoding\n",
    "encoded = list(features_final.columns)\n",
    "print(\"{} total features after one-hot encoding.\".format(len(encoded)))\n",
    "\n",
    "print(encoded)"
   ]
  },
  {
   "cell_type": "markdown",
   "metadata": {},
   "source": [
    "<a id='3.4'></a>\n",
    "### 3.4 Shuffling and Splitting Data\n",
    "Since all categorical variables have been converted into numerical features, and all numerical features have been normalized, the data (both features and their labels) can finally be split into training and test sets. 80% of the data will be used for training and 20% for testing."
   ]
  },
  {
   "cell_type": "code",
   "execution_count": 10,
   "metadata": {},
   "outputs": [
    {
     "name": "stdout",
     "output_type": "stream",
     "text": [
      "Training set has 36177 samples.\n",
      "Testing set has 9045 samples.\n"
     ]
    }
   ],
   "source": [
    "# Import train_test_split\n",
    "from sklearn.model_selection import train_test_split\n",
    "\n",
    "# Split the 'features' and 'income' data into training and testing sets\n",
    "X_train, X_test, y_train, y_test = train_test_split(features_final, \n",
    "                                                    income, \n",
    "                                                    test_size = 0.2, \n",
    "                                                    random_state = 0)\n",
    "\n",
    "# Show the results of the split\n",
    "print(\"Training set has {} samples.\".format(X_train.shape[0]))\n",
    "print(\"Testing set has {} samples.\".format(X_test.shape[0]))"
   ]
  },
  {
   "cell_type": "markdown",
   "metadata": {},
   "source": [
    "----\n",
    "<a id='4.'></a>\n",
    "## 4. Evaluating Model Performance\n",
    "In this section, four different algorithms are investigated to determine which is best at modelling the data. The chosen algorithms from the `scikit-learn` library are **Random Forest**, **AdaBoost** and **Support Vector Machines (SVM)**, while the fourth algorithm is known as a **Naive Predictor**."
   ]
  },
  {
   "cell_type": "markdown",
   "metadata": {},
   "source": [
    "<a id='4.1'></a>\n",
    "### 4.1 Model Evaluation Metrics\n",
    "#### 4.1.1 Common evaluation metrics\n",
    "\n",
    "**Accuracy** measures how often the classifier makes the correct prediction. It’s the ratio of the number of correct predictions to the total number of predictions (the number of test data points). The formula for accuracy is shown below:\n",
    "\n",
    "`[(True Positives + True Negatives) / (True Positives + False Positives + True Negatives + False Negatives)]`\n",
    "\n",
    "**Precision** measures the proportion of messages that were classified as spam, actually were spam.\n",
    "It is a ratio of true positives (words classified as spam, and which are actually spam) to all positives (all words classified as spam, irrespective of whether that was the correct classification). The formula for precision is shown below:\n",
    "\n",
    "`[True Positives/(True Positives + False Positives)]`\n",
    "\n",
    "**Recall (sensitivity)** measures the proportion of messages that actually were spam were classified as spam.\n",
    "It is a ratio of true positives (words classified as spam, and which are actually spam) to all the words that were actually spam. The formula for recall is shown below:\n",
    "\n",
    "`[True Positives/(True Positives + False Negatives)]`\n",
    "\n",
    "For classification problems that are skewed in their classification distributions, like in this case, accuracy by itself is not a very good metric. For instance, if we had 100 text messages and only 2 were spam, and the rest 98 weren't, we could classify 90 messages as not spam (including the 2 that were spam, hence classifying them to be false negatives) and 10 as spam (all 10 false positives) and still get a reasonably good accuracy score. For such cases, precision and recall come in very handy. These two metrics can be combined to get the F1 score, which is a weighted average (harmonic mean) of the precision and recall scores. This score can range from 0 to 1, with 1 being the best possible F1 score."
   ]
  },
  {
   "cell_type": "markdown",
   "metadata": {},
   "source": [
    "#### 4.1.2 CharityML's  case\n",
    "\n",
    "*CharityML*, equipped with their research, knows individuals that make more than \\$50,000 are most likely to donate to their charity. Because of this, *CharityML* is particularly interested in predicting who makes more than \\$50,000 accurately. It would seem that using **accuracy** as a metric for evaluating a particular model's performance would be appropriate. Additionally, identifying someone that does not make more than \\$50,000 as someone who does would be detrimental to *CharityML*, since they are looking to find individuals willing to donate. Therefore, a model's ability to precisely predict those that make more than \\$50,000 is more important than the model's ability to recall those individuals. This means that in this case, **precision** would be valued more than the recall metric. Additionally, **F-beta score** could be used as a metric that considers both precision and recall:\n",
    "\n",
    "$$ F_{\\beta} = (1 + \\beta^2) \\cdot \\frac{precision \\cdot recall}{\\left( \\beta^2 \\cdot precision \\right) + recall} $$\n",
    "\n",
    "In particular, when $\\beta = 0.5$, more emphasis is placed on precision. This is the **F$_{0.5}$ score** (or F-score for simplicity).\n",
    "\n",
    "Looking at the distribution of entries based on income classes, it's clear that most individuals do not make more than \\$50,000. This can greatly affect the **accuracy**, since we could simply state that an individual does not make more than \\$50,000 and generally be right, without ever looking at the data! Making such a statement would be called *naive*, since we have not considered any information to substantiate the claim. It is always important to consider the *naive prediction* for the data to help establish a benchmark for whether a model is performing well. That been said, using that prediction would be pointless: If we predicted all people made less than \\$50,000, *CharityML* would identify no one as donors. "
   ]
  },
  {
   "cell_type": "markdown",
   "metadata": {},
   "source": [
    "<a id='4.2'></a>\n",
    "### 4.2 Naive Predictor Performace\n",
    "The purpose of generating a naive predictor is simply to show what a base model without any intelligence would look like. In the real world, ideally, the base model would be either the results of a previous model or could be based on a research paper upon which you are looking to improve. When there is no benchmark model set, getting a result better than random choice is a good starting place.\n",
    "\n",
    "The naive predictor model would always predicts that an individual made more than $50,000. When we have a model that always predicts '1' (i.e. the individual makes more than 50k), then our model will have no True Negatives (TN) or False Negatives (FN) as we are not making any negative ('0' value) predictions. Therefore our accuracy, in this case, becomes the same as our precision because every prediction that we have made with the value '1' that should have '0' becomes a False Positive; therefore, our denominator for precision, in this case, is the total number of records we have in total. \n",
    "\n",
    "The computation of the naive predictor model's accuracy and F-score is shown below. Note that 'income' is the 'income_raw' data encoded to numerical values done in the data preprocessing step."
   ]
  },
  {
   "cell_type": "code",
   "execution_count": 11,
   "metadata": {},
   "outputs": [
    {
     "name": "stdout",
     "output_type": "stream",
     "text": [
      "Naive Predictor: [Accuracy score: 0.2478, F-score: 0.2917]\n"
     ]
    }
   ],
   "source": [
    "TP = np.sum(income) # Count the ones as this is the naive case\n",
    "FP = income.count() - TP # Specific to the naive case\n",
    "\n",
    "TN = 0 # No predicted negatives in the naive case\n",
    "FN = 0 # No predicted negatives in the naive case\n",
    "\n",
    "# Calculate accuracy, precision and recall\n",
    "accuracy = (TP + TN) / (TP + FP + TN + FN)\n",
    "recall = TP / (TP + FN)\n",
    "precision = TP / (TP + FP)\n",
    "\n",
    "# Calculate F-score using the formula above for beta = 0.5\n",
    "beta = 0.5\n",
    "fscore = (1 + beta**2) * (precision * recall) / ((beta**2 * precision) + recall)\n",
    "\n",
    "# Print the results \n",
    "print(\"Naive Predictor: [Accuracy score: {:.4f}, F-score: {:.4f}]\".format(accuracy, fscore))"
   ]
  },
  {
   "cell_type": "markdown",
   "metadata": {},
   "source": [
    "<a id='4.3'></a>\n",
    "###  4.3 Supervised Learning Models Performance\n",
    "**The following are some of the studied supervised learning models that are currently available in** [`scikit-learn`](http://scikit-learn.org/stable/supervised_learning.html);\n",
    "- Gaussian Naive Bayes (GaussianNB)\n",
    "- Decision Trees\n",
    "- Ensemble Methods (Bagging, Random Forest, AdaBoost, Gradient Boosting)\n",
    "- K-Nearest Neighbors (KNeighbors)\n",
    "- Stochastic Gradient Descent Classifier (SGDC)\n",
    "- Support Vector Machines (SVM)\n",
    "- Logistic Regression"
   ]
  },
  {
   "cell_type": "markdown",
   "metadata": {},
   "source": [
    "### 4.3.1 Chosen Models Description \n",
    "The following three models were chosen for this project: **Random Forest**, **AdaBoost** and **Support Vector Machines (SVM)**.\n",
    "### Random Forest\n",
    "A random forest is a machine learning algorithm that can be used to solve regression and classification problems. It consists of many decision trees and utilizes ensemble learning, which is a technique that combines many classifiers to provide solutions to complex problems.  The ‘forest’ generated by the random forest algorithm is trained through bagging or bootstrap aggregating.\n",
    "\n",
    "*  *An example of a real-world application of the model in the industry:*\n",
    "\n",
    "The algorithm can be used for product recommendation in e-commerce websites where sentiment analysis is performed using a random forest approach [(Khanvilkar and Vora, 2019)](https://www.researchgate.net/publication/334130376_Product_Recommendation_using_Sentiment_Analysis_using_Random_Forest_Approach_Gayatri).\n",
    "\n",
    "* *Strengths of Random Forest:*\n",
    "<br />\n",
    "\n",
    "    * Random Forest is a very versatile algorithm as it is applicable to both classification and regression problems\n",
    "    * Random Forest works well with both categorical and continuous variables\n",
    "    * Random Forest does not overfit the data while having high accuracy\n",
    "    * Random Forest automatically handles missing values in the dataset\n",
    "    * Random Forest has the power to handle large datasets with higher dimensionality\n",
    "\n",
    "\n",
    "* *Weaknesses of Random Forest:*\n",
    "<br />\n",
    "\n",
    "    * Can be considered as a black box as it offers limited interpretability and fails to determine the significance of each variable\n",
    "    * Due to its complexity, it requires significant computational power and resources\n",
    "    * Since it combines multiple decision trees, the model has a long training time period\n",
    "    * Since the algorithm is based on bootstrap sampling, it will have difficulties accurately predicting rare outcomes\n",
    "    \n",
    "    \n",
    "* *What makes this model a good candidate for the problem?*\n",
    "\n",
    "Random Forest is suitable for this problem as we are dealing with a relatively big dataset that has 45,222 entries and 13 features, and this algorithm works well with large datasets.\n",
    "\n",
    "### AdaBoost\n",
    "An AdaBoost classifier is a meta-estimator that begins by fitting a classifier on the original dataset and then fits additional copies of the classifier on the same dataset but where the weights of incorrectly classified instances are adjusted such that subsequent classifiers focus more on misclassified cases.\n",
    "\n",
    "*  *An example of a real-world application of the model in the industry:*\n",
    "\n",
    "The algorithm is heavily utilised for solving real-world problems, such as predicting customer churn which is the propensity of customers to cease doing business with a company in a given time period [(Jinbol, Xiu and Wenhuang, 2007)](https://www.cs.rit.edu/~rlaz/PatternRecognition/slides/churn_adaboost.pdf).\n",
    "\n",
    "* *Strengths of AdaBoost:*\n",
    "<br />\n",
    "\n",
    "    * AdaBoost has a high degree of precision\n",
    "    * AdaBoost is a fast algorithm that reaches the minimum error very quickly\n",
    "    * AdaBoost is relatively easy to use as there is less need to tweak parameters to obtain sufficient results\n",
    "    * Multiple classification algorithms can be used as base weak classifiers as part of the algorithm\n",
    "    * AdaBoost performs best when boosting weak learners in binary classification problems\n",
    "\n",
    "\n",
    "* *Weaknesses of AdaBoost:*\n",
    "<br />\n",
    "\n",
    "    * AdaBoost is very sensitive to uniform noise in the data and outliers\n",
    "    * AdaBoost's classification accuracy decreases when the data is imbalanced\n",
    "    * Training could be time-consuming\n",
    "\n",
    "\n",
    "* *What makes this model a good candidate for the problem?*\n",
    "\n",
    "AdaBoost is suitable for this problem as it performs best and with binary classification, which is exactly the nature of CharityML's case where the aim is to predict whether an individual's income falls in the over \\$50,000 category or not. \n",
    "\n",
    "### Support Vector Machines (SVM)\n",
    "Support vector machines are a set of supervised learning methods. The objective of the support vector machine algorithm is to find a boundary in N-dimensional space (N — the number of features) that distinctly classifies the data points and for this boundary to be as far away from the points as possible.\n",
    "\n",
    "*  *An example of a real-world application of the model in the industry:*\n",
    "\n",
    "There are various applications of support vector machines in medicine. More specifically, they are used for cancer classification, such as classifying MRI images of the brain [(Machhale et al., 2015)](https://ieeexplore.ieee.org/abstract/document/7150592/authors#authors).\n",
    "\n",
    "\n",
    "* *Strengths of Support Vector Machines:*\n",
    "<br />\n",
    "\n",
    "    * SVMs are effective in high dimensional spaces and are still effective when the number of dimensions exceeds the number of samples\n",
    "    * SVMs are versatile as different Kernel functions can be specified for the decision function, such as polynomial and RBF kernels\n",
    "    * SVMs work well with unstructured and semi-structured data like text, images and trees\n",
    "    * SVMs work relatively well when there is a clear margin of separation between classes\n",
    "    * SVMs are memory efficient as they use a subset of training points in the decision function\n",
    "\n",
    "\n",
    "* *Weaknesses of Support Vector Machines:*\n",
    "<br />\n",
    "\n",
    "    * Choosing an appropriate kernel, in general, for any case, is challenging\n",
    "    * SVMs do not directly provide probability estimates\n",
    "    * In cases when the number of features is much greater than the number of samples, kernel choice must be carefully considered due to the possibility of overfitting the data\n",
    "    * SVMs have long training times for large datasets\n",
    " \n",
    " \n",
    "* *What makes this model a good candidate for the problem?*\n",
    "\n",
    "Support vector machines are suitable to solve this problem as it is a versatile classification algorithm; hence it would perform well with a binary classification problem."
   ]
  },
  {
   "cell_type": "markdown",
   "metadata": {},
   "source": [
    "### 4.3.2 Creating a Training and Predicting Pipeline\n",
    "To properly evaluate the performance of each model, it's important to create a training and predicting pipeline that allows to quickly and effectively train models using various sizes of training data and perform predictions on the testing data. \n",
    "\n",
    "A function to speed up the training and prediction is shown below:"
   ]
  },
  {
   "cell_type": "code",
   "execution_count": 12,
   "metadata": {},
   "outputs": [],
   "source": [
    "# Import metrics from sklearn - fbeta_score and accuracy_score\n",
    "from sklearn.metrics import fbeta_score, accuracy_score\n",
    "\n",
    "def train_predict(learner, sample_size, X_train, y_train, X_test, y_test): \n",
    "    '''\n",
    "    inputs:\n",
    "       - learner: the learning algorithm to be trained and predicted on\n",
    "       - sample_size: the size of samples (number) to be drawn from training set\n",
    "       - X_train: features training set\n",
    "       - y_train: income training set\n",
    "       - X_test: features testing set\n",
    "       - y_test: income testing set\n",
    "    '''\n",
    "    \n",
    "    results = {}\n",
    "    \n",
    "    # Fit the learner to the training data using slicing with 'sample_size' \n",
    "    start = time() # Get start time\n",
    "    learner = learner.fit(X_train[:sample_size], y_train[:sample_size])\n",
    "    end = time() # Get end time\n",
    "    \n",
    "    # Calculate the training time\n",
    "    results['train_time'] = end - start\n",
    "        \n",
    "    # Get the predictions on the test set (X_test), then get predictions on the first 300 training samples (X_train)\n",
    "    start = time() # Get start time\n",
    "    predictions_test = learner.predict(X_test)\n",
    "    predictions_train = learner.predict(X_train[:300])\n",
    "    end = time() # Get end time\n",
    "    \n",
    "    # Calculate the total prediction time\n",
    "    results['pred_time'] = end - start\n",
    "            \n",
    "    # Compute accuracy score on the first 300 training samples and the test set\n",
    "    results['acc_train'] = accuracy_score(y_train[:300], predictions_train)\n",
    "    results['acc_test'] = accuracy_score(y_test, predictions_test)\n",
    "    \n",
    "    # Compute F-score on the the first 300 training samples and the test set\n",
    "    results['f_train'] = fbeta_score(y_train[:300], predictions_train, 0.5)\n",
    "    results['f_test'] = fbeta_score(y_test, predictions_test, 0.5)\n",
    "       \n",
    "    # Progress check\n",
    "    print(\"{} trained on {} samples.\".format(learner.__class__.__name__, sample_size))\n",
    "        \n",
    "    # Return the results\n",
    "    return results"
   ]
  },
  {
   "cell_type": "markdown",
   "metadata": {},
   "source": [
    "### 4.3.3  Initial Model Training\n",
    "The code below performs initial model training for each of the chosen supervised learning algorithms for the entire dataset, a 10% and 1% samples of the dataset."
   ]
  },
  {
   "cell_type": "code",
   "execution_count": 13,
   "metadata": {},
   "outputs": [
    {
     "name": "stdout",
     "output_type": "stream",
     "text": [
      "RandomForestClassifier trained on 361 samples.\n",
      "RandomForestClassifier trained on 3617 samples.\n",
      "RandomForestClassifier trained on 36177 samples.\n",
      "AdaBoostClassifier trained on 361 samples.\n",
      "AdaBoostClassifier trained on 3617 samples.\n",
      "AdaBoostClassifier trained on 36177 samples.\n",
      "SVC trained on 361 samples.\n",
      "SVC trained on 3617 samples.\n",
      "SVC trained on 36177 samples.\n"
     ]
    }
   ],
   "source": [
    "# Import the three supervised learning models from sklearn\n",
    "from sklearn.ensemble import RandomForestClassifier, AdaBoostClassifier\n",
    "from sklearn.svm import SVC\n",
    "\n",
    "# Initialize the three models\n",
    "rf = RandomForestClassifier(random_state=42)\n",
    "ada = AdaBoostClassifier(random_state=42)\n",
    "svm = SVC(random_state=42)\n",
    "\n",
    "classifiers = [rf, ada, svm]\n",
    "\n",
    "# Calculate the number of samples for 1%, 10%, and 100% of the training data\n",
    "# samples_100 is the entire training set\n",
    "# samples_10 is 10% of the entire training set\n",
    "# samples_1 is 1% of the entire training set\n",
    "samples_100 = len(y_train)\n",
    "samples_10 = int(len(y_train)/10)\n",
    "samples_1 = int(len(y_train)/100)\n",
    "\n",
    "# Collect results on the learners\n",
    "results = {}\n",
    "for clf in classifiers:\n",
    "    clf_name = clf.__class__.__name__\n",
    "    results[clf_name] = {}\n",
    "    for i, samples in enumerate([samples_1, samples_10, samples_100]):\n",
    "        results[clf_name][i] = \\\n",
    "        train_predict(clf, samples, X_train, y_train, X_test, y_test)"
   ]
  },
  {
   "cell_type": "markdown",
   "metadata": {},
   "source": [
    "----\n",
    "<a id='5.'></a>\n",
    "## 5. Improving Results\n",
    "In this section, the best supervised learning model is chosen, based on the evaluation metrics described above, to be used on the data. Then, a grid search optimization is performed for the chosen model over the entire training set (`X_train` and `y_train`) by tuning the parameters to improve upon the untuned model's F-score. "
   ]
  },
  {
   "cell_type": "markdown",
   "metadata": {},
   "source": [
    "<a id='5.1'></a>\n",
    "### 5.1 Choosing the Best Model"
   ]
  },
  {
   "cell_type": "code",
   "execution_count": 14,
   "metadata": {},
   "outputs": [
    {
     "data": {
      "image/png": "[encoded data removed]",
      "text/plain": [
       "<Figure size 792x576 with 6 Axes>"
      ]
     },
     "metadata": {
      "needs_background": "light"
     },
     "output_type": "display_data"
    }
   ],
   "source": [
    "# Run metrics visualization for the three supervised learning models chosen\n",
    "vs.evaluate(results, accuracy, fscore)"
   ]
  },
  {
   "cell_type": "code",
   "execution_count": 15,
   "metadata": {},
   "outputs": [
    {
     "name": "stdout",
     "output_type": "stream",
     "text": [
      "RandomForestClassifier\n"
     ]
    },
    {
     "data": {
      "text/html": [
       "<div>\n",
       "<style scoped>\n",
       "    .dataframe tbody tr th:only-of-type {\n",
       "        vertical-align: middle;\n",
       "    }\n",
       "\n",
       "    .dataframe tbody tr th {\n",
       "        vertical-align: top;\n",
       "    }\n",
       "\n",
       "    .dataframe thead th {\n",
       "        text-align: right;\n",
       "    }\n",
       "</style>\n",
       "<table border=\"1\" class=\"dataframe\">\n",
       "  <thead>\n",
       "    <tr style=\"text-align: right;\">\n",
       "      <th></th>\n",
       "      <th>score</th>\n",
       "    </tr>\n",
       "  </thead>\n",
       "  <tbody>\n",
       "    <tr>\n",
       "      <th>train_time</th>\n",
       "      <td>3.124610</td>\n",
       "    </tr>\n",
       "    <tr>\n",
       "      <th>pred_time</th>\n",
       "      <td>0.172979</td>\n",
       "    </tr>\n",
       "    <tr>\n",
       "      <th>acc_test</th>\n",
       "      <td>0.842344</td>\n",
       "    </tr>\n",
       "    <tr>\n",
       "      <th>f_test</th>\n",
       "      <td>0.681346</td>\n",
       "    </tr>\n",
       "  </tbody>\n",
       "</table>\n",
       "</div>"
      ],
      "text/plain": [
       "               score\n",
       "train_time  3.124610\n",
       "pred_time   0.172979\n",
       "acc_test    0.842344\n",
       "f_test      0.681346"
      ]
     },
     "metadata": {},
     "output_type": "display_data"
    },
    {
     "name": "stdout",
     "output_type": "stream",
     "text": [
      "AdaBoostClassifier\n"
     ]
    },
    {
     "data": {
      "text/html": [
       "<div>\n",
       "<style scoped>\n",
       "    .dataframe tbody tr th:only-of-type {\n",
       "        vertical-align: middle;\n",
       "    }\n",
       "\n",
       "    .dataframe tbody tr th {\n",
       "        vertical-align: top;\n",
       "    }\n",
       "\n",
       "    .dataframe thead th {\n",
       "        text-align: right;\n",
       "    }\n",
       "</style>\n",
       "<table border=\"1\" class=\"dataframe\">\n",
       "  <thead>\n",
       "    <tr style=\"text-align: right;\">\n",
       "      <th></th>\n",
       "      <th>score</th>\n",
       "    </tr>\n",
       "  </thead>\n",
       "  <tbody>\n",
       "    <tr>\n",
       "      <th>train_time</th>\n",
       "      <td>1.133124</td>\n",
       "    </tr>\n",
       "    <tr>\n",
       "      <th>pred_time</th>\n",
       "      <td>0.059213</td>\n",
       "    </tr>\n",
       "    <tr>\n",
       "      <th>acc_test</th>\n",
       "      <td>0.857601</td>\n",
       "    </tr>\n",
       "    <tr>\n",
       "      <th>f_test</th>\n",
       "      <td>0.724551</td>\n",
       "    </tr>\n",
       "  </tbody>\n",
       "</table>\n",
       "</div>"
      ],
      "text/plain": [
       "               score\n",
       "train_time  1.133124\n",
       "pred_time   0.059213\n",
       "acc_test    0.857601\n",
       "f_test      0.724551"
      ]
     },
     "metadata": {},
     "output_type": "display_data"
    },
    {
     "name": "stdout",
     "output_type": "stream",
     "text": [
      "SVC\n"
     ]
    },
    {
     "data": {
      "text/html": [
       "<div>\n",
       "<style scoped>\n",
       "    .dataframe tbody tr th:only-of-type {\n",
       "        vertical-align: middle;\n",
       "    }\n",
       "\n",
       "    .dataframe tbody tr th {\n",
       "        vertical-align: top;\n",
       "    }\n",
       "\n",
       "    .dataframe thead th {\n",
       "        text-align: right;\n",
       "    }\n",
       "</style>\n",
       "<table border=\"1\" class=\"dataframe\">\n",
       "  <thead>\n",
       "    <tr style=\"text-align: right;\">\n",
       "      <th></th>\n",
       "      <th>score</th>\n",
       "    </tr>\n",
       "  </thead>\n",
       "  <tbody>\n",
       "    <tr>\n",
       "      <th>train_time</th>\n",
       "      <td>55.756289</td>\n",
       "    </tr>\n",
       "    <tr>\n",
       "      <th>pred_time</th>\n",
       "      <td>24.816234</td>\n",
       "    </tr>\n",
       "    <tr>\n",
       "      <th>acc_test</th>\n",
       "      <td>0.842344</td>\n",
       "    </tr>\n",
       "    <tr>\n",
       "      <th>f_test</th>\n",
       "      <td>0.685054</td>\n",
       "    </tr>\n",
       "  </tbody>\n",
       "</table>\n",
       "</div>"
      ],
      "text/plain": [
       "                score\n",
       "train_time  55.756289\n",
       "pred_time   24.816234\n",
       "acc_test     0.842344\n",
       "f_test       0.685054"
      ]
     },
     "metadata": {},
     "output_type": "display_data"
    }
   ],
   "source": [
    "# Print the most important results in tabular format\n",
    "for result in results.items():\n",
    "    print(result[0])\n",
    "    display(pd.DataFrame(result[1]).rename(columns={2:'score'}).drop(\n",
    "        [0,1], axis=1).drop(['acc_train', 'f_train'], axis=0))"
   ]
  },
  {
   "cell_type": "markdown",
   "metadata": {},
   "source": [
    "* **AdaBoostClassifier** best classifies the data and hence is chosen to be used on the data.\n",
    "\n",
    "As can be seen from the graphs above, Random Forest significantly outperforms other algorithms on accuracy and the f-score metrics for the training set. However, it is the worst performer when considering the test set as shown in the tabular output, suggesting that the algorithm overfits the data. Overall, all three models have a similar accuracy metric performance on the test set, with AdaBoostClassifier performing slightly better than the other two algorithms. With regards to the f-score, AdaBoostClassifier clearly outperforms the other two algorithms, consistently having a higher score for all sample sizes. Such performance is to be expected from the algorithm as this is a binary classification problem which is where the AdaBoostClassifier performs best. Lastly, it is important to note on top of having the best metric scores, AdaBoostClassifier was also the fastest model having the lowest prediction and training times out of all three algorithms."
   ]
  },
  {
   "cell_type": "markdown",
   "metadata": {},
   "source": [
    "<a id='5.2'></a>\n",
    "###  5.2 Describing AdaBoostClassifier in Layman's Terms\n",
    "AdaBoost algorithm, short for Adaptive Boosting, is a boosting technique used as an ensemble method in machine learning. Essentially the aim of the technique is to set weights to data points and classifiers in a way that forces classifiers to concentrate on records that are difficult to correctly classify.\n",
    "\n",
    "AdaBoostClassifier takes the following steps. Firstly, a weak learner is chosen. A weak learner is a classifier that has a better prediction than the naive predictor, for instance, a decision tree. This first weak learner is fit to maximise the accuracy. Then, the objective of the second weak learner is to fix the mistakes of the first one, and hence the misclassified data points are given higher weights to punish the model more for misclassifying those points. The process of increasingly punishing the weak learners for misclassified points of the previous learner is iterated, and the weak learners are then combined to make a final ensemble model. In the final model, each learner votes to predict a person's income being more than 50k or not, and the model takes the majority of the votes to make a final prediction."
   ]
  },
  {
   "cell_type": "markdown",
   "metadata": {},
   "source": [
    "<a id='5.3'></a>\n",
    "### 5.3 Model Tuning\n",
    "A model's performance can be improved by altering hyperparameters. Grid search (`GridSearchCV`) will be used in order to find the best suited parameters for the AdaBoostClassifier classifier for this dataset. The code cell below finds the best number of estimators and learning rate parameters that would optimize and improve the current model's performance."
   ]
  },
  {
   "cell_type": "code",
   "execution_count": 16,
   "metadata": {},
   "outputs": [
    {
     "name": "stdout",
     "output_type": "stream",
     "text": [
      "Unoptimized model\n",
      "------\n",
      "Accuracy score on testing data: 0.8576\n",
      "F-score on testing data: 0.7246\n",
      "\n",
      "Optimized Model\n",
      "------\n",
      "Final accuracy score on the testing data: 0.8659\n",
      "Final F-score on the testing data: 0.7414\n"
     ]
    }
   ],
   "source": [
    "# Import 'GridSearchCV', 'make_scorer', and any other necessary libraries\n",
    "from sklearn.model_selection import GridSearchCV\n",
    "from sklearn.metrics import make_scorer\n",
    "\n",
    "# Initialize the classifier\n",
    "clf = AdaBoostClassifier(random_state = 42)\n",
    "\n",
    "# Create the parameters to tune\n",
    "parameters = {\n",
    "    'n_estimators': [25, 50, 100, 175, 275],\n",
    "    'learning_rate': [0.01, 0.1, 0.5, 1, 2]\n",
    "}\n",
    "\n",
    "# Make an fbeta_score scoring object\n",
    "scorer = make_scorer(fbeta_score, beta = 0.5)\n",
    "\n",
    "# Perform grid search on the classifier\n",
    "grid_obj = GridSearchCV(clf, parameters, scoring=scorer)\n",
    "\n",
    "# Fit the grid search object to the training data and find the optimal parameters\n",
    "grid_fit = grid_obj.fit(X_train, y_train)\n",
    "\n",
    "# Get the estimator\n",
    "best_clf = grid_fit.best_estimator_\n",
    "\n",
    "# Make predictions using the unoptimized and model\n",
    "predictions = (clf.fit(X_train, y_train)).predict(X_test)\n",
    "best_predictions = best_clf.predict(X_test)\n",
    "\n",
    "# Report the before-and-afterscores\n",
    "print(\"Unoptimized model\\n------\")\n",
    "print(\"Accuracy score on testing data: {:.4f}\".format(accuracy_score(y_test, predictions)))\n",
    "print(\"F-score on testing data: {:.4f}\".format(fbeta_score(y_test, predictions, beta = 0.5)))\n",
    "print(\"\\nOptimized Model\\n------\")\n",
    "print(\"Final accuracy score on the testing data: {:.4f}\".format(accuracy_score(y_test, best_predictions)))\n",
    "print(\"Final F-score on the testing data: {:.4f}\".format(fbeta_score(y_test, best_predictions, beta = 0.5)))"
   ]
  },
  {
   "cell_type": "code",
   "execution_count": 17,
   "metadata": {},
   "outputs": [
    {
     "data": {
      "text/plain": [
       "{'algorithm': 'SAMME.R',\n",
       " 'base_estimator': None,\n",
       " 'learning_rate': 1,\n",
       " 'n_estimators': 275,\n",
       " 'random_state': 42}"
      ]
     },
     "execution_count": 17,
     "metadata": {},
     "output_type": "execute_result"
    }
   ],
   "source": [
    "# Extract best classifier parameters\n",
    "best_clf.get_params()"
   ]
  },
  {
   "cell_type": "markdown",
   "metadata": {},
   "source": [
    "<a id='5.4'></a>\n",
    "### 5.4 Final Model Evaluation"
   ]
  },
  {
   "cell_type": "markdown",
   "metadata": {},
   "source": [
    "#### Results:\n",
    "\n",
    "|     Metric     |  Naive predictor  | Unoptimized Model | Optimized Model |\n",
    "| :------------: | :---------------: | :---------------: | :-------------: |\n",
    "| Accuracy Score |      0.2478       |      0.8576       |      0.8659     |    \n",
    "| F-score        |      0.2917       |      0.7246       |      0.7414     |   \n"
   ]
  },
  {
   "cell_type": "markdown",
   "metadata": {},
   "source": [
    "As can be seen from the results table above, the final optimized AdaBoostClassifier significantly outperforms the naive predictor on both accuracy and f-score, as both metrics are more than double for the optimized model. Similarly, there is also an improvement from the unoptimized to optimized model. However, this difference is not as significant. However, the accuracy score improves from 0.8576 to 0.8659, and the f-score improves from 0.7246 to 0.7414. Since it was already proven that the unoptimized model outperforms the other two chosen supervised learning algorithms, it is clear that the optimized AdaBoostClassifier has the best performance for this dataset."
   ]
  },
  {
   "cell_type": "markdown",
   "metadata": {},
   "source": [
    "----\n",
    "<a id='6.'></a>\n",
    "## 6. Feature Importance\n",
    "\n",
    "An important task when performing supervised learning on a dataset like the census data studied here is determining which features provide the most predictive power. By focusing on the relationship between only a few crucial features and the target label, it is possible to simplify the understanding of the phenomenon, which is almost always useful. In the case of this project, that means a small number of features should be identified that most strongly predict whether an individual makes at most or more than \\$50,000.\n",
    "\n",
    "\n",
    "Since AdaboostClassifier has `feature_importance_` attribute in scikit-learn, it is possible to rank the importance of features according to this chosen classifier. In this section, the most important features for the census dataset will be identified."
   ]
  },
  {
   "cell_type": "markdown",
   "metadata": {},
   "source": [
    "<a id='6.1'></a>\n",
    "### 6.1 Feature Relevance Observation\n",
    "In section 2 of this project, it was shown there are thirteen available features for each individual on record in the census data. They are shown below:"
   ]
  },
  {
   "cell_type": "code",
   "execution_count": 18,
   "metadata": {},
   "outputs": [
    {
     "data": {
      "text/plain": [
       "Index(['age', 'workclass', 'education_level', 'education-num',\n",
       "       'marital-status', 'occupation', 'relationship', 'race', 'sex',\n",
       "       'capital-gain', 'capital-loss', 'hours-per-week', 'native-country',\n",
       "       'income'],\n",
       "      dtype='object')"
      ]
     },
     "execution_count": 18,
     "metadata": {},
     "output_type": "execute_result"
    }
   ],
   "source": [
    "data.columns"
   ]
  },
  {
   "cell_type": "markdown",
   "metadata": {},
   "source": [
    "Of these thirteen records, I believe that the following 5 are the most important in predicting an individual's income based on pure observation::\n",
    "\n",
    "* *Capital gain* \n",
    "\n",
    "Capital gain is clearly related to the amount of income an individual receives. It is likely that a high capital gain coming from investing will lead to higher income and vice versa.\n",
    "\n",
    "\n",
    "* *Capital loss*\n",
    "\n",
    "Essentially capital loss and capital gain can be seen as a single variable, but in this particular dataset, they are separate features, and hence I believe that capital loss will similarly affect one's income. However, in this case, there will be an opposite effect (i.e. a higher capital loss will lead to lower income and vice versa).\n",
    "\n",
    "* *Age*\n",
    "\n",
    "It could be argued that with age one gains more experience in one's job and hence becomes more skilled and efficient at it. It could be similarly argued that a more skilled and efficient worker is more valuable regardless of the occupation and, therefore, should have a higher income. Hence it is likely that age will affect income.\n",
    "\n",
    "* *Education level*\n",
    "\n",
    "Similarly, arguably, a higher level of education makes an individual more skilled and therefore more valuable in the job market. Hence, it is likely that an individual with a higher education level will be paid more than an individual with a lower education level.\n",
    "\n",
    "* *Occupation*\n",
    "\n",
    "It is clear that certain occupations pay more than others, and since there are a variety of occupations present in the dataset, it is likely to capture these differences as an individual's occupation is likely to affect that individual's income."
   ]
  },
  {
   "cell_type": "markdown",
   "metadata": {},
   "source": [
    "<a id='6.2'></a>\n",
    "### 6.2 Extracting Most Predictive Features\n",
    "It is possible to extract most predictive features using `feature_importance_` attribute  which is a function that ranks the importance of each feature when making predictions based on the chosen algorithm. The graph below shows the most important features according to the optimized AdaBoostClassifier for predicting if an individual makes at most or above \\$50,000."
   ]
  },
  {
   "cell_type": "code",
   "execution_count": 19,
   "metadata": {},
   "outputs": [
    {
     "data": {
      "image/png": "[encoded data removed]",
      "text/plain": [
       "<Figure size 648x360 with 1 Axes>"
      ]
     },
     "metadata": {
      "needs_background": "light"
     },
     "output_type": "display_data"
    }
   ],
   "source": [
    "# Import a Optimized AdaBoostClassifier\n",
    "model = AdaBoostClassifier(learning_rate = 1, n_estimators = 275, random_state = 42)\n",
    "\n",
    "# Train the model\n",
    "model.fit(X_train, y_train)\n",
    "\n",
    "# Extract the feature importances using .feature_importances_ \n",
    "importances = model.feature_importances_\n",
    "\n",
    "# Plot\n",
    "vs.feature_plot(importances, X_train, y_train)"
   ]
  },
  {
   "cell_type": "markdown",
   "metadata": {},
   "source": [
    "####  Observations\n",
    "The visualisation above confirms that the first 3 features that were selected based on simply observing the data are indeed among the top five most predictive features. Moreover, capital gain, capital loss and age are also the top 3 most predictive features as deduced from pure observation and logic. Hence, I believe that these features are indeed the most predictive due to the reasoning outlined above.\n",
    "\n",
    "\n",
    "Nevertheless, the graph illustrates that education level and occupation are not among the most predictive features. Instead, hours worked per week and sex are more predictive than the previously described features. Hours per week could be an important predictive feature as it is possible that individuals who work more hours earn more money for their efforts and hence have a higher income. Furthermore, the graph shows that sex is an important predictor of an individual's income. The dataset, therefore, illustrates the disparities in pay between different sexes, and this could be explained that by the fact that, unfortunately, there is a pay gap where women, on average, are paid less than men.\n",
    "\n",
    "\n",
    "Lastly, it is important to note that while the graph shows capital gain, capital loss, age, hours per week and sex as the top predictive features, the predictive importance of hours per week, sex and even age is significantly smaller than that of capital gain and capital loss variables."
   ]
  },
  {
   "cell_type": "markdown",
   "metadata": {},
   "source": [
    "<a id='6.3'></a>\n",
    "### 6.3 Feature Selection\n",
    "From the visualization above, we see that the top five most important features contribute more than half (around 75%) of the importance of all features present in the data. This hints that it is possible to reduce the feature space and simplify the information required for the model to learn. Therefore, another instance of AdaBoostClassifier will be trained on the same dataset but containing only the five most important predictive features. With fewer features required to train, the expectation is that training and prediction time is much lower — at the cost of performance metrics.  The code cell below compares the metrics and training and prediction time of the optimized model found earlier using the full features dataset and reduced features dataset."
   ]
  },
  {
   "cell_type": "code",
   "execution_count": 20,
   "metadata": {},
   "outputs": [
    {
     "name": "stdout",
     "output_type": "stream",
     "text": [
      "Final Model trained on full data\n",
      "------\n",
      "Accuracy on testing data: 0.8659\n",
      "F-score on testing data: 0.7414\n",
      "Time taken to train and predict: 6.461893081665039\n",
      "\n",
      "Final Model trained on reduced data\n",
      "------\n",
      "Accuracy on testing data: 0.8247\n",
      "F-score on testing data: 0.6597\n",
      "Time taken to train and predict: 2.2083420753479004\n"
     ]
    }
   ],
   "source": [
    "# Import functionality for cloning a model\n",
    "from sklearn.base import clone\n",
    "\n",
    "# Reduce the feature space\n",
    "X_train_reduced = X_train[X_train.columns.values[(np.argsort(importances)[::-1])[:5]]]\n",
    "X_test_reduced = X_test[X_test.columns.values[(np.argsort(importances)[::-1])[:5]]]\n",
    "\n",
    "# Train and make predictions with all features using the \"best\" model found from grid search earlier\n",
    "start_full = time() # Get start time\n",
    "clf_full = (clone(best_clf)).fit(X_train, y_train)\n",
    "full_predictions = clf_full.predict(X_test)\n",
    "end_full = time() # Get start time\n",
    "\n",
    "full_time = end_full - start_full\n",
    "\n",
    "# Train and make predictions with reduced features using the \"best\" model found from grid search earlier\n",
    "start_reduced = time() # Get start time\n",
    "clf_reduced = (clone(best_clf)).fit(X_train_reduced, y_train)\n",
    "reduced_predictions = clf_reduced.predict(X_test_reduced)\n",
    "end_reduced = time() # Get start time\n",
    "\n",
    "reduced_time = end_reduced - start_reduced\n",
    "\n",
    "# Report scores from the final model using both versions of data\n",
    "print(\"Final Model trained on full data\\n------\")\n",
    "print(\"Accuracy on testing data: {:.4f}\".format(accuracy_score(y_test, full_predictions)))\n",
    "print(\"F-score on testing data: {:.4f}\".format(fbeta_score(y_test, full_predictions, beta = 0.5)))\n",
    "print(\"Time taken to train and predict: {}\".format(full_time))\n",
    "print(\"\\nFinal Model trained on reduced data\\n------\")\n",
    "print(\"Accuracy on testing data: {:.4f}\".format(accuracy_score(y_test, reduced_predictions)))\n",
    "print(\"F-score on testing data: {:.4f}\".format(fbeta_score(y_test, reduced_predictions, beta = 0.5)))\n",
    "print(\"Time taken to train and predict: {}\".format(reduced_time))"
   ]
  },
  {
   "cell_type": "markdown",
   "metadata": {},
   "source": [
    "#### Effects of Feature Selection\n",
    "\n",
    "As can be seen from the output above, the accuracy and the f-score metrics decrease if the optimized AdaBoostClassifier would be trained on the reduced data. For the accuracy score, the decrease is from 0.8659 to 0.8247, and while it is arguably not that significant, the gained time from using reduced data is only around 4 seconds and therefore, it is not worth sacrificing accuracy for a relatively small decrease in training and predicting time. Similarly, and more importantly, there is a much larger decrease in the f-score, which decreases from 0.7414 to 0.6597. This metric is more valuable in the context of this problem, as described in section 4, and since there is a significant decrease in this score, it could be deduced that the optimized model should not be trained on the reduced data."
   ]
  }
 ],
 "metadata": {
  "kernelspec": {
   "display_name": "Python 3",
   "language": "python",
   "name": "python3"
  },
  "language_info": {
   "codemirror_mode": {
    "name": "ipython",
    "version": 3
   },
   "file_extension": ".py",
   "mimetype": "text/x-python",
   "name": "python",
   "nbconvert_exporter": "python",
   "pygments_lexer": "ipython3",
   "version": "3.8.8"
  }
 },
 "nbformat": 4,
 "nbformat_minor": 1
}
